{
  "cells": [
    {
      "cell_type": "code",
      "execution_count": 1,
      "metadata": {
        "id": "pVWIyevh5-2W"
      },
      "outputs": [],
      "source": [
        "import numpy as np\n",
        "import pandas as p\n",
        "from sklearn.metrics import accuracy_score \n",
        "from sklearn.model_selection import train_test_split\n",
        "import matplotlib.pyplot as plt"
      ]
    },
    {
      "cell_type": "markdown",
      "metadata": {},
      "source": [
        "DATA LOADING USING PANDAS"
      ]
    },
    {
      "cell_type": "code",
      "execution_count": 2,
      "metadata": {
        "id": "BTaiXS7X6yXO"
      },
      "outputs": [],
      "source": [
        "d=p.read_csv(\"E:\\PROJ 4th\\heart_dataset.csv\")"
      ]
    },
    {
      "cell_type": "code",
      "execution_count": 3,
      "metadata": {
        "colab": {
          "base_uri": "https://localhost:8080/",
          "height": 206
        },
        "id": "V4ngEqKW697u",
        "outputId": "83868e90-25b1-4c86-c4f4-37b41bd3b3d0"
      },
      "outputs": [
        {
          "data": {
            "text/html": [
              "<div>\n",
              "<style scoped>\n",
              "    .dataframe tbody tr th:only-of-type {\n",
              "        vertical-align: middle;\n",
              "    }\n",
              "\n",
              "    .dataframe tbody tr th {\n",
              "        vertical-align: top;\n",
              "    }\n",
              "\n",
              "    .dataframe thead th {\n",
              "        text-align: right;\n",
              "    }\n",
              "</style>\n",
              "<table border=\"1\" class=\"dataframe\">\n",
              "  <thead>\n",
              "    <tr style=\"text-align: right;\">\n",
              "      <th></th>\n",
              "      <th>age</th>\n",
              "      <th>sex</th>\n",
              "      <th>cp</th>\n",
              "      <th>trestbps</th>\n",
              "      <th>chol</th>\n",
              "      <th>fbs</th>\n",
              "      <th>restecg</th>\n",
              "      <th>thalach</th>\n",
              "      <th>exang</th>\n",
              "      <th>oldpeak</th>\n",
              "      <th>slope</th>\n",
              "      <th>ca</th>\n",
              "      <th>thal</th>\n",
              "      <th>target</th>\n",
              "    </tr>\n",
              "  </thead>\n",
              "  <tbody>\n",
              "    <tr>\n",
              "      <th>0</th>\n",
              "      <td>52</td>\n",
              "      <td>1</td>\n",
              "      <td>0</td>\n",
              "      <td>125</td>\n",
              "      <td>212</td>\n",
              "      <td>0</td>\n",
              "      <td>1</td>\n",
              "      <td>168</td>\n",
              "      <td>0</td>\n",
              "      <td>1.0</td>\n",
              "      <td>2</td>\n",
              "      <td>2</td>\n",
              "      <td>3</td>\n",
              "      <td>0</td>\n",
              "    </tr>\n",
              "    <tr>\n",
              "      <th>1</th>\n",
              "      <td>53</td>\n",
              "      <td>1</td>\n",
              "      <td>0</td>\n",
              "      <td>140</td>\n",
              "      <td>203</td>\n",
              "      <td>1</td>\n",
              "      <td>0</td>\n",
              "      <td>155</td>\n",
              "      <td>1</td>\n",
              "      <td>3.1</td>\n",
              "      <td>0</td>\n",
              "      <td>0</td>\n",
              "      <td>3</td>\n",
              "      <td>0</td>\n",
              "    </tr>\n",
              "    <tr>\n",
              "      <th>2</th>\n",
              "      <td>70</td>\n",
              "      <td>1</td>\n",
              "      <td>0</td>\n",
              "      <td>145</td>\n",
              "      <td>174</td>\n",
              "      <td>0</td>\n",
              "      <td>1</td>\n",
              "      <td>125</td>\n",
              "      <td>1</td>\n",
              "      <td>2.6</td>\n",
              "      <td>0</td>\n",
              "      <td>0</td>\n",
              "      <td>3</td>\n",
              "      <td>0</td>\n",
              "    </tr>\n",
              "    <tr>\n",
              "      <th>3</th>\n",
              "      <td>61</td>\n",
              "      <td>1</td>\n",
              "      <td>0</td>\n",
              "      <td>148</td>\n",
              "      <td>203</td>\n",
              "      <td>0</td>\n",
              "      <td>1</td>\n",
              "      <td>161</td>\n",
              "      <td>0</td>\n",
              "      <td>0.0</td>\n",
              "      <td>2</td>\n",
              "      <td>1</td>\n",
              "      <td>3</td>\n",
              "      <td>0</td>\n",
              "    </tr>\n",
              "    <tr>\n",
              "      <th>4</th>\n",
              "      <td>62</td>\n",
              "      <td>0</td>\n",
              "      <td>0</td>\n",
              "      <td>138</td>\n",
              "      <td>294</td>\n",
              "      <td>1</td>\n",
              "      <td>1</td>\n",
              "      <td>106</td>\n",
              "      <td>0</td>\n",
              "      <td>1.9</td>\n",
              "      <td>1</td>\n",
              "      <td>3</td>\n",
              "      <td>2</td>\n",
              "      <td>0</td>\n",
              "    </tr>\n",
              "  </tbody>\n",
              "</table>\n",
              "</div>"
            ],
            "text/plain": [
              "   age  sex  cp  trestbps  chol  fbs  restecg  thalach  exang  oldpeak  slope  \\\n",
              "0   52    1   0       125   212    0        1      168      0      1.0      2   \n",
              "1   53    1   0       140   203    1        0      155      1      3.1      0   \n",
              "2   70    1   0       145   174    0        1      125      1      2.6      0   \n",
              "3   61    1   0       148   203    0        1      161      0      0.0      2   \n",
              "4   62    0   0       138   294    1        1      106      0      1.9      1   \n",
              "\n",
              "   ca  thal  target  \n",
              "0   2     3       0  \n",
              "1   0     3       0  \n",
              "2   0     3       0  \n",
              "3   1     3       0  \n",
              "4   3     2       0  "
            ]
          },
          "execution_count": 3,
          "metadata": {},
          "output_type": "execute_result"
        }
      ],
      "source": [
        "d.head()"
      ]
    },
    {
      "cell_type": "code",
      "execution_count": 4,
      "metadata": {
        "colab": {
          "base_uri": "https://localhost:8080/",
          "height": 206
        },
        "id": "cC5hHWfE7A08",
        "outputId": "46e37830-29a3-408a-a22d-20cd84d0712a"
      },
      "outputs": [
        {
          "data": {
            "text/html": [
              "<div>\n",
              "<style scoped>\n",
              "    .dataframe tbody tr th:only-of-type {\n",
              "        vertical-align: middle;\n",
              "    }\n",
              "\n",
              "    .dataframe tbody tr th {\n",
              "        vertical-align: top;\n",
              "    }\n",
              "\n",
              "    .dataframe thead th {\n",
              "        text-align: right;\n",
              "    }\n",
              "</style>\n",
              "<table border=\"1\" class=\"dataframe\">\n",
              "  <thead>\n",
              "    <tr style=\"text-align: right;\">\n",
              "      <th></th>\n",
              "      <th>age</th>\n",
              "      <th>sex</th>\n",
              "      <th>cp</th>\n",
              "      <th>trestbps</th>\n",
              "      <th>chol</th>\n",
              "      <th>fbs</th>\n",
              "      <th>restecg</th>\n",
              "      <th>thalach</th>\n",
              "      <th>exang</th>\n",
              "      <th>oldpeak</th>\n",
              "      <th>slope</th>\n",
              "      <th>ca</th>\n",
              "      <th>thal</th>\n",
              "      <th>target</th>\n",
              "    </tr>\n",
              "  </thead>\n",
              "  <tbody>\n",
              "    <tr>\n",
              "      <th>1020</th>\n",
              "      <td>59</td>\n",
              "      <td>1</td>\n",
              "      <td>1</td>\n",
              "      <td>140</td>\n",
              "      <td>221</td>\n",
              "      <td>0</td>\n",
              "      <td>1</td>\n",
              "      <td>164</td>\n",
              "      <td>1</td>\n",
              "      <td>0.0</td>\n",
              "      <td>2</td>\n",
              "      <td>0</td>\n",
              "      <td>2</td>\n",
              "      <td>1</td>\n",
              "    </tr>\n",
              "    <tr>\n",
              "      <th>1021</th>\n",
              "      <td>60</td>\n",
              "      <td>1</td>\n",
              "      <td>0</td>\n",
              "      <td>125</td>\n",
              "      <td>258</td>\n",
              "      <td>0</td>\n",
              "      <td>0</td>\n",
              "      <td>141</td>\n",
              "      <td>1</td>\n",
              "      <td>2.8</td>\n",
              "      <td>1</td>\n",
              "      <td>1</td>\n",
              "      <td>3</td>\n",
              "      <td>0</td>\n",
              "    </tr>\n",
              "    <tr>\n",
              "      <th>1022</th>\n",
              "      <td>47</td>\n",
              "      <td>1</td>\n",
              "      <td>0</td>\n",
              "      <td>110</td>\n",
              "      <td>275</td>\n",
              "      <td>0</td>\n",
              "      <td>0</td>\n",
              "      <td>118</td>\n",
              "      <td>1</td>\n",
              "      <td>1.0</td>\n",
              "      <td>1</td>\n",
              "      <td>1</td>\n",
              "      <td>2</td>\n",
              "      <td>0</td>\n",
              "    </tr>\n",
              "    <tr>\n",
              "      <th>1023</th>\n",
              "      <td>50</td>\n",
              "      <td>0</td>\n",
              "      <td>0</td>\n",
              "      <td>110</td>\n",
              "      <td>254</td>\n",
              "      <td>0</td>\n",
              "      <td>0</td>\n",
              "      <td>159</td>\n",
              "      <td>0</td>\n",
              "      <td>0.0</td>\n",
              "      <td>2</td>\n",
              "      <td>0</td>\n",
              "      <td>2</td>\n",
              "      <td>1</td>\n",
              "    </tr>\n",
              "    <tr>\n",
              "      <th>1024</th>\n",
              "      <td>54</td>\n",
              "      <td>1</td>\n",
              "      <td>0</td>\n",
              "      <td>120</td>\n",
              "      <td>188</td>\n",
              "      <td>0</td>\n",
              "      <td>1</td>\n",
              "      <td>113</td>\n",
              "      <td>0</td>\n",
              "      <td>1.4</td>\n",
              "      <td>1</td>\n",
              "      <td>1</td>\n",
              "      <td>3</td>\n",
              "      <td>0</td>\n",
              "    </tr>\n",
              "  </tbody>\n",
              "</table>\n",
              "</div>"
            ],
            "text/plain": [
              "      age  sex  cp  trestbps  chol  fbs  restecg  thalach  exang  oldpeak  \\\n",
              "1020   59    1   1       140   221    0        1      164      1      0.0   \n",
              "1021   60    1   0       125   258    0        0      141      1      2.8   \n",
              "1022   47    1   0       110   275    0        0      118      1      1.0   \n",
              "1023   50    0   0       110   254    0        0      159      0      0.0   \n",
              "1024   54    1   0       120   188    0        1      113      0      1.4   \n",
              "\n",
              "      slope  ca  thal  target  \n",
              "1020      2   0     2       1  \n",
              "1021      1   1     3       0  \n",
              "1022      1   1     2       0  \n",
              "1023      2   0     2       1  \n",
              "1024      1   1     3       0  "
            ]
          },
          "execution_count": 4,
          "metadata": {},
          "output_type": "execute_result"
        }
      ],
      "source": [
        "d.tail()"
      ]
    },
    {
      "cell_type": "code",
      "execution_count": 5,
      "metadata": {
        "colab": {
          "base_uri": "https://localhost:8080/"
        },
        "id": "-2QpIiZ57QH4",
        "outputId": "5f101891-4a97-4aee-e7a7-30b283e74ac1"
      },
      "outputs": [
        {
          "data": {
            "text/plain": [
              "(1025, 14)"
            ]
          },
          "execution_count": 5,
          "metadata": {},
          "output_type": "execute_result"
        }
      ],
      "source": [
        "d.shape"
      ]
    },
    {
      "cell_type": "code",
      "execution_count": 6,
      "metadata": {
        "colab": {
          "base_uri": "https://localhost:8080/"
        },
        "id": "4vGsRcSz8ZrA",
        "outputId": "5f0f300b-3a7d-4e09-fa43-e2349a8aefae"
      },
      "outputs": [
        {
          "name": "stdout",
          "output_type": "stream",
          "text": [
            "<class 'pandas.core.frame.DataFrame'>\n",
            "RangeIndex: 1025 entries, 0 to 1024\n",
            "Data columns (total 14 columns):\n",
            " #   Column    Non-Null Count  Dtype  \n",
            "---  ------    --------------  -----  \n",
            " 0   age       1025 non-null   int64  \n",
            " 1   sex       1025 non-null   int64  \n",
            " 2   cp        1025 non-null   int64  \n",
            " 3   trestbps  1025 non-null   int64  \n",
            " 4   chol      1025 non-null   int64  \n",
            " 5   fbs       1025 non-null   int64  \n",
            " 6   restecg   1025 non-null   int64  \n",
            " 7   thalach   1025 non-null   int64  \n",
            " 8   exang     1025 non-null   int64  \n",
            " 9   oldpeak   1025 non-null   float64\n",
            " 10  slope     1025 non-null   int64  \n",
            " 11  ca        1025 non-null   int64  \n",
            " 12  thal      1025 non-null   int64  \n",
            " 13  target    1025 non-null   int64  \n",
            "dtypes: float64(1), int64(13)\n",
            "memory usage: 112.2 KB\n"
          ]
        }
      ],
      "source": [
        "d.info()"
      ]
    },
    {
      "cell_type": "code",
      "execution_count": 7,
      "metadata": {
        "colab": {
          "base_uri": "https://localhost:8080/"
        },
        "id": "MV8HJvv38eFY",
        "outputId": "0578a2dd-32ad-4e1d-e45d-a462fc831caa"
      },
      "outputs": [
        {
          "data": {
            "text/plain": [
              "age         0\n",
              "sex         0\n",
              "cp          0\n",
              "trestbps    0\n",
              "chol        0\n",
              "fbs         0\n",
              "restecg     0\n",
              "thalach     0\n",
              "exang       0\n",
              "oldpeak     0\n",
              "slope       0\n",
              "ca          0\n",
              "thal        0\n",
              "target      0\n",
              "dtype: int64"
            ]
          },
          "execution_count": 7,
          "metadata": {},
          "output_type": "execute_result"
        }
      ],
      "source": [
        "d.isnull().sum()"
      ]
    },
    {
      "cell_type": "code",
      "execution_count": 8,
      "metadata": {
        "colab": {
          "base_uri": "https://localhost:8080/",
          "height": 364
        },
        "id": "nZTFQ5Tq8h5Y",
        "outputId": "beab4cc1-e173-4ac1-8120-22e02c1a19e2"
      },
      "outputs": [
        {
          "data": {
            "text/html": [
              "<div>\n",
              "<style scoped>\n",
              "    .dataframe tbody tr th:only-of-type {\n",
              "        vertical-align: middle;\n",
              "    }\n",
              "\n",
              "    .dataframe tbody tr th {\n",
              "        vertical-align: top;\n",
              "    }\n",
              "\n",
              "    .dataframe thead th {\n",
              "        text-align: right;\n",
              "    }\n",
              "</style>\n",
              "<table border=\"1\" class=\"dataframe\">\n",
              "  <thead>\n",
              "    <tr style=\"text-align: right;\">\n",
              "      <th></th>\n",
              "      <th>age</th>\n",
              "      <th>sex</th>\n",
              "      <th>cp</th>\n",
              "      <th>trestbps</th>\n",
              "      <th>chol</th>\n",
              "      <th>fbs</th>\n",
              "      <th>restecg</th>\n",
              "      <th>thalach</th>\n",
              "      <th>exang</th>\n",
              "      <th>oldpeak</th>\n",
              "      <th>slope</th>\n",
              "      <th>ca</th>\n",
              "      <th>thal</th>\n",
              "      <th>target</th>\n",
              "    </tr>\n",
              "  </thead>\n",
              "  <tbody>\n",
              "    <tr>\n",
              "      <th>count</th>\n",
              "      <td>1025.000000</td>\n",
              "      <td>1025.000000</td>\n",
              "      <td>1025.000000</td>\n",
              "      <td>1025.000000</td>\n",
              "      <td>1025.00000</td>\n",
              "      <td>1025.000000</td>\n",
              "      <td>1025.000000</td>\n",
              "      <td>1025.000000</td>\n",
              "      <td>1025.000000</td>\n",
              "      <td>1025.000000</td>\n",
              "      <td>1025.000000</td>\n",
              "      <td>1025.000000</td>\n",
              "      <td>1025.000000</td>\n",
              "      <td>1025.000000</td>\n",
              "    </tr>\n",
              "    <tr>\n",
              "      <th>mean</th>\n",
              "      <td>54.434146</td>\n",
              "      <td>0.695610</td>\n",
              "      <td>0.942439</td>\n",
              "      <td>131.611707</td>\n",
              "      <td>246.00000</td>\n",
              "      <td>0.149268</td>\n",
              "      <td>0.529756</td>\n",
              "      <td>149.114146</td>\n",
              "      <td>0.336585</td>\n",
              "      <td>1.071512</td>\n",
              "      <td>1.385366</td>\n",
              "      <td>0.754146</td>\n",
              "      <td>2.323902</td>\n",
              "      <td>0.513171</td>\n",
              "    </tr>\n",
              "    <tr>\n",
              "      <th>std</th>\n",
              "      <td>9.072290</td>\n",
              "      <td>0.460373</td>\n",
              "      <td>1.029641</td>\n",
              "      <td>17.516718</td>\n",
              "      <td>51.59251</td>\n",
              "      <td>0.356527</td>\n",
              "      <td>0.527878</td>\n",
              "      <td>23.005724</td>\n",
              "      <td>0.472772</td>\n",
              "      <td>1.175053</td>\n",
              "      <td>0.617755</td>\n",
              "      <td>1.030798</td>\n",
              "      <td>0.620660</td>\n",
              "      <td>0.500070</td>\n",
              "    </tr>\n",
              "    <tr>\n",
              "      <th>min</th>\n",
              "      <td>29.000000</td>\n",
              "      <td>0.000000</td>\n",
              "      <td>0.000000</td>\n",
              "      <td>94.000000</td>\n",
              "      <td>126.00000</td>\n",
              "      <td>0.000000</td>\n",
              "      <td>0.000000</td>\n",
              "      <td>71.000000</td>\n",
              "      <td>0.000000</td>\n",
              "      <td>0.000000</td>\n",
              "      <td>0.000000</td>\n",
              "      <td>0.000000</td>\n",
              "      <td>0.000000</td>\n",
              "      <td>0.000000</td>\n",
              "    </tr>\n",
              "    <tr>\n",
              "      <th>25%</th>\n",
              "      <td>48.000000</td>\n",
              "      <td>0.000000</td>\n",
              "      <td>0.000000</td>\n",
              "      <td>120.000000</td>\n",
              "      <td>211.00000</td>\n",
              "      <td>0.000000</td>\n",
              "      <td>0.000000</td>\n",
              "      <td>132.000000</td>\n",
              "      <td>0.000000</td>\n",
              "      <td>0.000000</td>\n",
              "      <td>1.000000</td>\n",
              "      <td>0.000000</td>\n",
              "      <td>2.000000</td>\n",
              "      <td>0.000000</td>\n",
              "    </tr>\n",
              "    <tr>\n",
              "      <th>50%</th>\n",
              "      <td>56.000000</td>\n",
              "      <td>1.000000</td>\n",
              "      <td>1.000000</td>\n",
              "      <td>130.000000</td>\n",
              "      <td>240.00000</td>\n",
              "      <td>0.000000</td>\n",
              "      <td>1.000000</td>\n",
              "      <td>152.000000</td>\n",
              "      <td>0.000000</td>\n",
              "      <td>0.800000</td>\n",
              "      <td>1.000000</td>\n",
              "      <td>0.000000</td>\n",
              "      <td>2.000000</td>\n",
              "      <td>1.000000</td>\n",
              "    </tr>\n",
              "    <tr>\n",
              "      <th>75%</th>\n",
              "      <td>61.000000</td>\n",
              "      <td>1.000000</td>\n",
              "      <td>2.000000</td>\n",
              "      <td>140.000000</td>\n",
              "      <td>275.00000</td>\n",
              "      <td>0.000000</td>\n",
              "      <td>1.000000</td>\n",
              "      <td>166.000000</td>\n",
              "      <td>1.000000</td>\n",
              "      <td>1.800000</td>\n",
              "      <td>2.000000</td>\n",
              "      <td>1.000000</td>\n",
              "      <td>3.000000</td>\n",
              "      <td>1.000000</td>\n",
              "    </tr>\n",
              "    <tr>\n",
              "      <th>max</th>\n",
              "      <td>77.000000</td>\n",
              "      <td>1.000000</td>\n",
              "      <td>3.000000</td>\n",
              "      <td>200.000000</td>\n",
              "      <td>564.00000</td>\n",
              "      <td>1.000000</td>\n",
              "      <td>2.000000</td>\n",
              "      <td>202.000000</td>\n",
              "      <td>1.000000</td>\n",
              "      <td>6.200000</td>\n",
              "      <td>2.000000</td>\n",
              "      <td>4.000000</td>\n",
              "      <td>3.000000</td>\n",
              "      <td>1.000000</td>\n",
              "    </tr>\n",
              "  </tbody>\n",
              "</table>\n",
              "</div>"
            ],
            "text/plain": [
              "               age          sex           cp     trestbps        chol  \\\n",
              "count  1025.000000  1025.000000  1025.000000  1025.000000  1025.00000   \n",
              "mean     54.434146     0.695610     0.942439   131.611707   246.00000   \n",
              "std       9.072290     0.460373     1.029641    17.516718    51.59251   \n",
              "min      29.000000     0.000000     0.000000    94.000000   126.00000   \n",
              "25%      48.000000     0.000000     0.000000   120.000000   211.00000   \n",
              "50%      56.000000     1.000000     1.000000   130.000000   240.00000   \n",
              "75%      61.000000     1.000000     2.000000   140.000000   275.00000   \n",
              "max      77.000000     1.000000     3.000000   200.000000   564.00000   \n",
              "\n",
              "               fbs      restecg      thalach        exang      oldpeak  \\\n",
              "count  1025.000000  1025.000000  1025.000000  1025.000000  1025.000000   \n",
              "mean      0.149268     0.529756   149.114146     0.336585     1.071512   \n",
              "std       0.356527     0.527878    23.005724     0.472772     1.175053   \n",
              "min       0.000000     0.000000    71.000000     0.000000     0.000000   \n",
              "25%       0.000000     0.000000   132.000000     0.000000     0.000000   \n",
              "50%       0.000000     1.000000   152.000000     0.000000     0.800000   \n",
              "75%       0.000000     1.000000   166.000000     1.000000     1.800000   \n",
              "max       1.000000     2.000000   202.000000     1.000000     6.200000   \n",
              "\n",
              "             slope           ca         thal       target  \n",
              "count  1025.000000  1025.000000  1025.000000  1025.000000  \n",
              "mean      1.385366     0.754146     2.323902     0.513171  \n",
              "std       0.617755     1.030798     0.620660     0.500070  \n",
              "min       0.000000     0.000000     0.000000     0.000000  \n",
              "25%       1.000000     0.000000     2.000000     0.000000  \n",
              "50%       1.000000     0.000000     2.000000     1.000000  \n",
              "75%       2.000000     1.000000     3.000000     1.000000  \n",
              "max       2.000000     4.000000     3.000000     1.000000  "
            ]
          },
          "execution_count": 8,
          "metadata": {},
          "output_type": "execute_result"
        }
      ],
      "source": [
        "d.describe()"
      ]
    },
    {
      "cell_type": "code",
      "execution_count": 9,
      "metadata": {
        "colab": {
          "base_uri": "https://localhost:8080/"
        },
        "id": "WUppKZbF8kko",
        "outputId": "b79d0521-3ac0-4b43-f677-bbd06b0b37f5"
      },
      "outputs": [
        {
          "data": {
            "text/plain": [
              "target\n",
              "1    526\n",
              "0    499\n",
              "Name: count, dtype: int64"
            ]
          },
          "execution_count": 9,
          "metadata": {},
          "output_type": "execute_result"
        }
      ],
      "source": [
        "\n",
        "d[\"target\"].value_counts()"
      ]
    },
    {
      "cell_type": "code",
      "execution_count": 10,
      "metadata": {
        "id": "I5te10rU8orD"
      },
      "outputs": [],
      "source": [
        "A = d.drop(columns='target',axis=1)\n",
        "B = d['target']"
      ]
    },
    {
      "cell_type": "code",
      "execution_count": 11,
      "metadata": {
        "colab": {
          "base_uri": "https://localhost:8080/"
        },
        "id": "R9er8yZm8sHM",
        "outputId": "03c9d02b-2c83-4285-ecfc-78c46457ac47"
      },
      "outputs": [
        {
          "name": "stdout",
          "output_type": "stream",
          "text": [
            "      age  sex  cp  trestbps  chol  fbs  restecg  thalach  exang  oldpeak  \\\n",
            "0      52    1   0       125   212    0        1      168      0      1.0   \n",
            "1      53    1   0       140   203    1        0      155      1      3.1   \n",
            "2      70    1   0       145   174    0        1      125      1      2.6   \n",
            "3      61    1   0       148   203    0        1      161      0      0.0   \n",
            "4      62    0   0       138   294    1        1      106      0      1.9   \n",
            "...   ...  ...  ..       ...   ...  ...      ...      ...    ...      ...   \n",
            "1020   59    1   1       140   221    0        1      164      1      0.0   \n",
            "1021   60    1   0       125   258    0        0      141      1      2.8   \n",
            "1022   47    1   0       110   275    0        0      118      1      1.0   \n",
            "1023   50    0   0       110   254    0        0      159      0      0.0   \n",
            "1024   54    1   0       120   188    0        1      113      0      1.4   \n",
            "\n",
            "      slope  ca  thal  \n",
            "0         2   2     3  \n",
            "1         0   0     3  \n",
            "2         0   0     3  \n",
            "3         2   1     3  \n",
            "4         1   3     2  \n",
            "...     ...  ..   ...  \n",
            "1020      2   0     2  \n",
            "1021      1   1     3  \n",
            "1022      1   1     2  \n",
            "1023      2   0     2  \n",
            "1024      1   1     3  \n",
            "\n",
            "[1025 rows x 13 columns]\n"
          ]
        }
      ],
      "source": [
        "print(A)"
      ]
    },
    {
      "cell_type": "code",
      "execution_count": 12,
      "metadata": {
        "colab": {
          "base_uri": "https://localhost:8080/"
        },
        "id": "o-zRfBFw8xRU",
        "outputId": "035c74d2-7025-4c62-b440-3e8ad4852202"
      },
      "outputs": [
        {
          "name": "stdout",
          "output_type": "stream",
          "text": [
            "0       0\n",
            "1       0\n",
            "2       0\n",
            "3       0\n",
            "4       0\n",
            "       ..\n",
            "1020    1\n",
            "1021    0\n",
            "1022    0\n",
            "1023    1\n",
            "1024    0\n",
            "Name: target, Length: 1025, dtype: int64\n"
          ]
        }
      ],
      "source": [
        "print(B)"
      ]
    },
    {
      "cell_type": "markdown",
      "metadata": {},
      "source": [
        "DATA PREPROCESSING "
      ]
    },
    {
      "cell_type": "code",
      "execution_count": 13,
      "metadata": {
        "id": "P1dLt9s78y5h"
      },
      "outputs": [],
      "source": [
        "A_train , A_test , B_train , B_test = train_test_split ( A , B , test_size=0.2 , random_state=2 )"
      ]
    },
    {
      "cell_type": "code",
      "execution_count": 14,
      "metadata": {
        "colab": {
          "base_uri": "https://localhost:8080/"
        },
        "id": "DgzyZKaB825S",
        "outputId": "f22cf956-bf63-4891-f550-0b388efbc6e2"
      },
      "outputs": [
        {
          "name": "stdout",
          "output_type": "stream",
          "text": [
            "The dataset has  (1025, 13)  no of rows and columns\n",
            "The training dataset has  (820, 13)  no of rows and columns\n",
            "The testing dataset has  (205, 13)  no of rows and columns\n"
          ]
        }
      ],
      "source": [
        "print(\"The dataset has \",A.shape,\" no of rows and columns\")\n",
        "print(\"The training dataset has \",A_train.shape,\" no of rows and columns\")\n",
        "print(\"The testing dataset has \",A_test.shape,\" no of rows and columns\")"
      ]
    },
    {
      "cell_type": "code",
      "execution_count": 15,
      "metadata": {
        "colab": {
          "base_uri": "https://localhost:8080/"
        },
        "id": "3PCCj4Gl9IpR",
        "outputId": "8f9be59f-7e68-4cb9-8431-e4be66782503"
      },
      "outputs": [
        {
          "name": "stdout",
          "output_type": "stream",
          "text": [
            "The dataset has  (1025,)  no of rows and columns\n",
            "The training dataset has  (820,)  no of rows and columns\n",
            "The testing dataset has  (205,)  no of rows and columns\n"
          ]
        }
      ],
      "source": [
        "print(\"The dataset has \",B.shape,\" no of rows and columns\")\n",
        "print(\"The training dataset has \",B_train.shape,\" no of rows and columns\")\n",
        "print(\"The testing dataset has \",B_test.shape,\" no of rows and columns\")"
      ]
    },
    {
      "cell_type": "code",
      "execution_count": 16,
      "metadata": {
        "id": "aAAtbk8sEB1i"
      },
      "outputs": [],
      "source": [
        "from sklearn.preprocessing import StandardScaler"
      ]
    },
    {
      "cell_type": "code",
      "execution_count": 17,
      "metadata": {
        "id": "I1RcOXg1EOnI"
      },
      "outputs": [],
      "source": [
        "scaler=StandardScaler()\n",
        "\n",
        "A_train_std=scaler.fit_transform(A_train)\n",
        "\n",
        "A_test_std=scaler.transform(A_test)"
      ]
    },
    {
      "cell_type": "code",
      "execution_count": 18,
      "metadata": {
        "colab": {
          "base_uri": "https://localhost:8080/"
        },
        "id": "vSl5SX_RE5Kl",
        "outputId": "841934f7-86d4-4f68-9c5c-c14c077928d9"
      },
      "outputs": [
        {
          "name": "stdout",
          "output_type": "stream",
          "text": [
            "[[ 0.16856381  0.68138514  0.06823285 ... -2.23202634 -0.72853503\n",
            "  -0.52277804]\n",
            " [-0.27552399  0.68138514  1.04982822 ...  0.98743118  3.12565027\n",
            "  -0.52277804]\n",
            " [-0.16450204  0.68138514  1.04982822 ...  0.98743118  2.16210395\n",
            "  -0.52277804]\n",
            " ...\n",
            " [ 0.05754186  0.68138514 -0.91336252 ... -0.62229758  0.2350113\n",
            "   1.09487477]\n",
            " [ 0.05754186  0.68138514 -0.91336252 ... -0.62229758  0.2350113\n",
            "   1.09487477]\n",
            " [ 0.83469552 -1.46759877 -0.91336252 ...  0.98743118 -0.72853503\n",
            "  -0.52277804]]\n"
          ]
        }
      ],
      "source": [
        "print(A_train_std)"
      ]
    },
    {
      "cell_type": "code",
      "execution_count": 19,
      "metadata": {
        "colab": {
          "base_uri": "https://localhost:8080/"
        },
        "id": "AGChCNivE9ux",
        "outputId": "05576ab8-fae4-42e2-903a-f5fddc248a56"
      },
      "outputs": [
        {
          "name": "stdout",
          "output_type": "stream",
          "text": [
            "[[ 1.72287112  0.68138514 -0.91336252 ... -0.62229758  2.16210395\n",
            "  -0.52277804]\n",
            " [ 0.27958576  0.68138514 -0.91336252 ... -0.62229758 -0.72853503\n",
            "  -2.14043085]\n",
            " [ 0.83469552  0.68138514 -0.91336252 ... -0.62229758  1.19855762\n",
            "   1.09487477]\n",
            " ...\n",
            " [-0.60858984 -1.46759877  0.06823285 ... -0.62229758 -0.72853503\n",
            "  -0.52277804]\n",
            " [-0.38654594  0.68138514  1.04982822 ... -0.62229758 -0.72853503\n",
            "  -0.52277804]\n",
            " [-0.05348009  0.68138514 -0.91336252 ... -0.62229758  0.2350113\n",
            "  -0.52277804]]\n"
          ]
        }
      ],
      "source": [
        "print(A_test_std)"
      ]
    },
    {
      "attachments": {},
      "cell_type": "markdown",
      "metadata": {
        "id": "8FpUSwHj9Whb"
      },
      "source": [
        "NEURAL NETWORK MODEL BUILDING"
      ]
    },
    {
      "cell_type": "code",
      "execution_count": 20,
      "metadata": {
        "id": "AsyNdWsO9LcY"
      },
      "outputs": [],
      "source": [
        "\n",
        "import tensorflow as tf\n",
        "tf.random.set_seed(3)\n",
        "from tensorflow import keras"
      ]
    },
    {
      "cell_type": "code",
      "execution_count": 21,
      "metadata": {
        "id": "Hbu_sJko98Qn"
      },
      "outputs": [],
      "source": [
        "model=keras.Sequential([\n",
        "    keras.layers.Flatten(input_shape=(13,)),     #  -> First/Input Layer \n",
        "    keras.layers.Dense(50,activation='relu'),\n",
        "    keras.layers.Dense(50,activation='relu'),\n",
        "    keras.layers.Dense(50,activation='relu'),     #  -> Second/Hidden Layer\n",
        "    keras.layers.Dense(2,activation='sigmoid')   #  -> Third/Output Layer \n",
        "                                                 #  ->The number of neuron in output layer = No of classifier\n",
        "])"
      ]
    },
    {
      "attachments": {},
      "cell_type": "markdown",
      "metadata": {
        "id": "3bLeMRwQAczW"
      },
      "source": [
        "COMPILING THE NEURAL NETWORK"
      ]
    },
    {
      "cell_type": "code",
      "execution_count": 22,
      "metadata": {
        "id": "yeXzaUoWAtv9"
      },
      "outputs": [],
      "source": [
        "model.compile( optimizer='adam' ,\n",
        "              loss='sparse_categorical_crossentropy',\n",
        "              metrics=['accuracy'])"
      ]
    },
    {
      "cell_type": "code",
      "execution_count": 23,
      "metadata": {
        "colab": {
          "base_uri": "https://localhost:8080/"
        },
        "id": "bDrAp5zwB3OA",
        "outputId": "8ea52cc5-628f-40fe-ab15-21735f072a43"
      },
      "outputs": [
        {
          "name": "stdout",
          "output_type": "stream",
          "text": [
            "Epoch 1/10\n",
            "24/24 [==============================] - 2s 22ms/step - loss: 0.5835 - accuracy: 0.7276 - val_loss: 0.4522 - val_accuracy: 0.8902\n",
            "Epoch 2/10\n",
            "24/24 [==============================] - 0s 5ms/step - loss: 0.4090 - accuracy: 0.8469 - val_loss: 0.3189 - val_accuracy: 0.9024\n",
            "Epoch 3/10\n",
            "24/24 [==============================] - 0s 5ms/step - loss: 0.3401 - accuracy: 0.8645 - val_loss: 0.2850 - val_accuracy: 0.9024\n",
            "Epoch 4/10\n",
            "24/24 [==============================] - 0s 5ms/step - loss: 0.3009 - accuracy: 0.8794 - val_loss: 0.2666 - val_accuracy: 0.9024\n",
            "Epoch 5/10\n",
            "24/24 [==============================] - 0s 5ms/step - loss: 0.2703 - accuracy: 0.8943 - val_loss: 0.2502 - val_accuracy: 0.8902\n",
            "Epoch 6/10\n",
            "24/24 [==============================] - 0s 5ms/step - loss: 0.2472 - accuracy: 0.8889 - val_loss: 0.2354 - val_accuracy: 0.8902\n",
            "Epoch 7/10\n",
            "24/24 [==============================] - 0s 5ms/step - loss: 0.2169 - accuracy: 0.9241 - val_loss: 0.1933 - val_accuracy: 0.9146\n",
            "Epoch 8/10\n",
            "24/24 [==============================] - 0s 5ms/step - loss: 0.1944 - accuracy: 0.9322 - val_loss: 0.1766 - val_accuracy: 0.9146\n",
            "Epoch 9/10\n",
            "24/24 [==============================] - 0s 5ms/step - loss: 0.1673 - accuracy: 0.9512 - val_loss: 0.1599 - val_accuracy: 0.9512\n",
            "Epoch 10/10\n",
            "24/24 [==============================] - 0s 6ms/step - loss: 0.1442 - accuracy: 0.9566 - val_loss: 0.1420 - val_accuracy: 0.9512\n"
          ]
        }
      ],
      "source": [
        "history=model.fit(A_train_std,B_train,validation_split=0.1,epochs=10)"
      ]
    },
    {
      "attachments": {},
      "cell_type": "markdown",
      "metadata": {
        "id": "BJAEA6toFrv0"
      },
      "source": [
        "VISUALIZATION"
      ]
    },
    {
      "cell_type": "code",
      "execution_count": 24,
      "metadata": {
        "colab": {
          "base_uri": "https://localhost:8080/",
          "height": 489
        },
        "id": "K6wmrQmPFrF1",
        "outputId": "cbce3f26-0059-4d8d-fb32-816c266ce830"
      },
      "outputs": [
        {
          "data": {
            "text/plain": [
              "<matplotlib.legend.Legend at 0x21e77a04ad0>"
            ]
          },
          "execution_count": 24,
          "metadata": {},
          "output_type": "execute_result"
        },
        {
          "data": {
            "image/png": "[encoded data removed]",
            "text/plain": [
              "<Figure size 640x480 with 1 Axes>"
            ]
          },
          "metadata": {},
          "output_type": "display_data"
        }
      ],
      "source": [
        "plt.plot(history.history['accuracy'])\n",
        "plt.plot(history.history['val_accuracy'])\n",
        "plt.title('Model Accuracy')\n",
        "plt.ylabel('Accuracy')\n",
        "plt.xlabel('epoch')\n",
        "\n",
        "plt.legend(['Training Data', 'Validation Data'],loc='lower right')"
      ]
    },
    {
      "cell_type": "code",
      "execution_count": 25,
      "metadata": {
        "colab": {
          "base_uri": "https://localhost:8080/",
          "height": 489
        },
        "id": "Hr5Au9r0ItSa",
        "outputId": "25146011-511b-4a1c-ebe4-f6ae295fa61d"
      },
      "outputs": [
        {
          "data": {
            "text/plain": [
              "<matplotlib.legend.Legend at 0x21e78aefcd0>"
            ]
          },
          "execution_count": 25,
          "metadata": {},
          "output_type": "execute_result"
        },
        {
          "data": {
            "image/png": "[encoded data removed]",
            "text/plain": [
              "<Figure size 640x480 with 1 Axes>"
            ]
          },
          "metadata": {},
          "output_type": "display_data"
        }
      ],
      "source": [
        "plt.plot(history.history['loss'])\n",
        "plt.plot(history.history['val_loss'])\n",
        "\n",
        "plt.title('Model Loss')\n",
        "plt.ylabel('Loss')\n",
        "plt.xlabel('epoch')\n",
        "\n",
        "plt.legend(['Training Data', 'Validation Data'],loc='upper right')"
      ]
    },
    {
      "cell_type": "code",
      "execution_count": 26,
      "metadata": {
        "colab": {
          "base_uri": "https://localhost:8080/"
        },
        "id": "NMFkV-cPNroE",
        "outputId": "5f7c8d4e-1fe6-48e3-8417-e0b10f5cda49"
      },
      "outputs": [
        {
          "name": "stdout",
          "output_type": "stream",
          "text": [
            "7/7 [==============================] - 0s 4ms/step - loss: 0.1549 - accuracy: 0.9610\n",
            "0.9609755873680115\n",
            "The Acurracy of our model is :  96.09755873680115 %\n"
          ]
        }
      ],
      "source": [
        "loss,accuracy=model.evaluate(A_test_std,B_test)\n",
        "print(accuracy)\n",
        "print(\"The Acurracy of our model is : \",accuracy*100,\"%\")"
      ]
    },
    {
      "cell_type": "code",
      "execution_count": 27,
      "metadata": {
        "colab": {
          "base_uri": "https://localhost:8080/"
        },
        "id": "TAZfeY_SOK6f",
        "outputId": "2b48ab8f-a3b1-4987-94a8-caa4c3fb7270"
      },
      "outputs": [
        {
          "name": "stdout",
          "output_type": "stream",
          "text": [
            "(205, 13)\n"
          ]
        }
      ],
      "source": [
        "print(A_test_std.shape)"
      ]
    },
    {
      "cell_type": "code",
      "execution_count": 28,
      "metadata": {
        "colab": {
          "base_uri": "https://localhost:8080/"
        },
        "id": "KuK3NNauOZnh",
        "outputId": "1fbee5fc-d6af-4905-973d-c22e2315c559"
      },
      "outputs": [
        {
          "name": "stdout",
          "output_type": "stream",
          "text": [
            "[ 1.72287112  0.68138514 -0.91336252 -0.08491216  1.51940083 -0.41201637\n",
            " -1.02383022 -1.72094573 -0.70258435  1.10703632 -0.62229758  2.16210395\n",
            " -0.52277804]\n"
          ]
        }
      ],
      "source": [
        "print(A_test_std[0])"
      ]
    },
    {
      "cell_type": "code",
      "execution_count": 29,
      "metadata": {
        "colab": {
          "base_uri": "https://localhost:8080/"
        },
        "id": "ia3rAGR9OeEb",
        "outputId": "17f26d50-5046-4a5d-ccd6-b55f99199017"
      },
      "outputs": [
        {
          "name": "stdout",
          "output_type": "stream",
          "text": [
            "7/7 [==============================] - 0s 2ms/step\n"
          ]
        }
      ],
      "source": [
        "B_pred =model.predict(A_test_std)"
      ]
    },
    {
      "cell_type": "code",
      "execution_count": 30,
      "metadata": {
        "colab": {
          "base_uri": "https://localhost:8080/"
        },
        "id": "0QNQFcblPWiS",
        "outputId": "7184dfe3-5efe-453c-9f8f-500d42d451b9"
      },
      "outputs": [
        {
          "name": "stdout",
          "output_type": "stream",
          "text": [
            "(205, 2)\n"
          ]
        }
      ],
      "source": [
        "print(B_pred.shape)"
      ]
    },
    {
      "cell_type": "code",
      "execution_count": 31,
      "metadata": {
        "colab": {
          "base_uri": "https://localhost:8080/"
        },
        "id": "jIzfShfcParf",
        "outputId": "8fde7eba-6653-446c-c9e0-36fbefa29997"
      },
      "outputs": [
        {
          "name": "stdout",
          "output_type": "stream",
          "text": [
            "[[ 1.72287112  0.68138514 -0.91336252 ... -0.62229758  2.16210395\n",
            "  -0.52277804]\n",
            " [ 0.27958576  0.68138514 -0.91336252 ... -0.62229758 -0.72853503\n",
            "  -2.14043085]\n",
            " [ 0.83469552  0.68138514 -0.91336252 ... -0.62229758  1.19855762\n",
            "   1.09487477]\n",
            " ...\n",
            " [-0.60858984 -1.46759877  0.06823285 ... -0.62229758 -0.72853503\n",
            "  -0.52277804]\n",
            " [-0.38654594  0.68138514  1.04982822 ... -0.62229758 -0.72853503\n",
            "  -0.52277804]\n",
            " [-0.05348009  0.68138514 -0.91336252 ... -0.62229758  0.2350113\n",
            "  -0.52277804]]\n"
          ]
        }
      ],
      "source": [
        "print(A_test_std)"
      ]
    },
    {
      "cell_type": "code",
      "execution_count": 32,
      "metadata": {
        "colab": {
          "base_uri": "https://localhost:8080/"
        },
        "id": "sayal62YPizN",
        "outputId": "1aa6066e-2a96-4418-ff15-25c0244f0c11"
      },
      "outputs": [
        {
          "name": "stdout",
          "output_type": "stream",
          "text": [
            "[[0.8401071  0.03924339]\n",
            " [0.3136917  0.66915303]\n",
            " [0.8366175  0.03887342]\n",
            " [0.8401071  0.03924339]\n",
            " [0.03118343 0.9703155 ]\n",
            " [0.2280607  0.7429666 ]\n",
            " [0.7163909  0.12154029]\n",
            " [0.8581322  0.04454222]\n",
            " [0.6998242  0.18301804]\n",
            " [0.17954503 0.8122833 ]\n",
            " [0.5228698  0.44322273]\n",
            " [0.77825737 0.29252172]\n",
            " [0.698835   0.27198747]\n",
            " [0.31673512 0.64079994]\n",
            " [0.10628884 0.89030874]\n",
            " [0.18175995 0.7658269 ]\n",
            " [0.11679655 0.92669886]\n",
            " [0.4216011  0.29069892]\n",
            " [0.04438899 0.9527612 ]\n",
            " [0.24490714 0.6562512 ]\n",
            " [0.21601608 0.7450268 ]\n",
            " [0.04810015 0.97347575]\n",
            " [0.09429426 0.8838817 ]\n",
            " [0.7516748  0.11693448]\n",
            " [0.90410244 0.05073939]\n",
            " [0.72075194 0.23731709]\n",
            " [0.8353644  0.02958949]\n",
            " [0.3167022  0.4434928 ]\n",
            " [0.9369634  0.02430876]\n",
            " [0.64481026 0.34203556]\n",
            " [0.86821216 0.10246601]\n",
            " [0.8483575  0.07935292]\n",
            " [0.20333478 0.8387091 ]\n",
            " [0.8421866  0.05827542]\n",
            " [0.70372754 0.13152461]\n",
            " [0.03898696 0.9793565 ]\n",
            " [0.21309586 0.82757497]\n",
            " [0.173066   0.82857317]\n",
            " [0.15662003 0.7336779 ]\n",
            " [0.23606157 0.78022254]\n",
            " [0.28600883 0.77098113]\n",
            " [0.95169294 0.02049935]\n",
            " [0.41946068 0.47667304]\n",
            " [0.29954728 0.5383386 ]\n",
            " [0.9587127  0.01086541]\n",
            " [0.08247548 0.9312798 ]\n",
            " [0.2975383  0.8884696 ]\n",
            " [0.1263725  0.7459122 ]\n",
            " [0.29187456 0.75382304]\n",
            " [0.645645   0.20930685]\n",
            " [0.29954728 0.5383386 ]\n",
            " [0.7297649  0.11293565]\n",
            " [0.88883865 0.08475301]\n",
            " [0.7929198  0.06604669]\n",
            " [0.51072174 0.40586922]\n",
            " [0.07475027 0.9397414 ]\n",
            " [0.39272836 0.5543584 ]\n",
            " [0.21126813 0.78199935]\n",
            " [0.698835   0.27198747]\n",
            " [0.362578   0.7445682 ]\n",
            " [0.3301386  0.43075916]\n",
            " [0.9575101  0.02014995]\n",
            " [0.22468437 0.83036196]\n",
            " [0.22733231 0.663581  ]\n",
            " [0.422255   0.5053935 ]\n",
            " [0.6617327  0.13140702]\n",
            " [0.41356856 0.41809335]\n",
            " [0.21289961 0.59971076]\n",
            " [0.8862221  0.03133901]\n",
            " [0.07029384 0.89855725]\n",
            " [0.04005121 0.949681  ]\n",
            " [0.87146544 0.06137989]\n",
            " [0.4216011  0.29069892]\n",
            " [0.04944753 0.941036  ]\n",
            " [0.02319514 0.987247  ]\n",
            " [0.26680866 0.5952087 ]\n",
            " [0.47772905 0.40331158]\n",
            " [0.5936357  0.38378727]\n",
            " [0.85385484 0.08198413]\n",
            " [0.9950952  0.00174416]\n",
            " [0.90773034 0.04389331]\n",
            " [0.89469934 0.03988856]\n",
            " [0.10019645 0.9523256 ]\n",
            " [0.8862221  0.03133901]\n",
            " [0.69995356 0.32594943]\n",
            " [0.05531976 0.9244668 ]\n",
            " [0.5936357  0.38378727]\n",
            " [0.64481026 0.34203556]\n",
            " [0.21595605 0.5311707 ]\n",
            " [0.07775684 0.9347597 ]\n",
            " [0.21289961 0.59971076]\n",
            " [0.9285513  0.03453757]\n",
            " [0.06338108 0.93577886]\n",
            " [0.96369153 0.02037634]\n",
            " [0.03737484 0.97867256]\n",
            " [0.04438899 0.9527612 ]\n",
            " [0.22587614 0.6048631 ]\n",
            " [0.9036983  0.0249736 ]\n",
            " [0.21126813 0.78199935]\n",
            " [0.8117432  0.0446044 ]\n",
            " [0.03898696 0.9793565 ]\n",
            " [0.51072174 0.40586922]\n",
            " [0.24036929 0.77031755]\n",
            " [0.16664623 0.85921913]\n",
            " [0.5603856  0.45812702]\n",
            " [0.0979467  0.8334802 ]\n",
            " [0.06377629 0.96894914]\n",
            " [0.07475027 0.9397414 ]\n",
            " [0.10042719 0.9469041 ]\n",
            " [0.03665981 0.9190031 ]\n",
            " [0.63860595 0.2159324 ]\n",
            " [0.48395196 0.48208117]\n",
            " [0.7297649  0.11293565]\n",
            " [0.9043289  0.03092308]\n",
            " [0.9306885  0.04578285]\n",
            " [0.7477424  0.17559922]\n",
            " [0.72075194 0.23731709]\n",
            " [0.6130858  0.19669451]\n",
            " [0.78529245 0.13164224]\n",
            " [0.69995356 0.32594943]\n",
            " [0.17819184 0.83452404]\n",
            " [0.5457841  0.37627786]\n",
            " [0.21601608 0.7450268 ]\n",
            " [0.5228698  0.44322273]\n",
            " [0.04005121 0.949681  ]\n",
            " [0.5457841  0.37627786]\n",
            " [0.47537857 0.24643566]\n",
            " [0.17222577 0.71921855]\n",
            " [0.70372754 0.13152461]\n",
            " [0.590204   0.18594678]\n",
            " [0.36670476 0.5452763 ]\n",
            " [0.81823856 0.1228299 ]\n",
            " [0.0921407  0.87895447]\n",
            " [0.5199231  0.15401079]\n",
            " [0.1271443  0.6951736 ]\n",
            " [0.24490714 0.6562512 ]\n",
            " [0.22733231 0.663581  ]\n",
            " [0.53986204 0.22124323]\n",
            " [0.30696812 0.64008605]\n",
            " [0.68437964 0.1747783 ]\n",
            " [0.5228698  0.44322273]\n",
            " [0.8661527  0.07149901]\n",
            " [0.56945497 0.3249712 ]\n",
            " [0.08784721 0.931228  ]\n",
            " [0.10042719 0.9469041 ]\n",
            " [0.590204   0.18594678]\n",
            " [0.12246946 0.8166647 ]\n",
            " [0.98837125 0.00794128]\n",
            " [0.8597013  0.09372555]\n",
            " [0.7477424  0.17559922]\n",
            " [0.8688313  0.03869873]\n",
            " [0.23988129 0.5523353 ]\n",
            " [0.91498035 0.03255554]\n",
            " [0.20333478 0.8387091 ]\n",
            " [0.11378855 0.9016696 ]\n",
            " [0.22868961 0.6383722 ]\n",
            " [0.6998242  0.18301804]\n",
            " [0.36406624 0.6565807 ]\n",
            " [0.75153935 0.11460298]\n",
            " [0.9306885  0.04578285]\n",
            " [0.813192   0.17371672]\n",
            " [0.16664623 0.85921913]\n",
            " [0.31673512 0.64079994]\n",
            " [0.06552608 0.9075894 ]\n",
            " [0.9316443  0.01546376]\n",
            " [0.8277148  0.1502376 ]\n",
            " [0.0959962  0.9066377 ]\n",
            " [0.9052305  0.02803036]\n",
            " [0.03737484 0.97867256]\n",
            " [0.81773466 0.07269871]\n",
            " [0.39272836 0.5543584 ]\n",
            " [0.8688313  0.03869873]\n",
            " [0.24036929 0.77031755]\n",
            " [0.8366175  0.03887342]\n",
            " [0.8117432  0.0446044 ]\n",
            " [0.7257504  0.13477345]\n",
            " [0.12513965 0.8446385 ]\n",
            " [0.95169294 0.02049935]\n",
            " [0.6831867  0.40574855]\n",
            " [0.03898696 0.9793565 ]\n",
            " [0.07719579 0.88045555]\n",
            " [0.24668135 0.83093596]\n",
            " [0.09902097 0.7806901 ]\n",
            " [0.17819184 0.83452404]\n",
            " [0.698835   0.27198747]\n",
            " [0.6931538  0.21128482]\n",
            " [0.47375935 0.37206215]\n",
            " [0.26007953 0.67608297]\n",
            " [0.34120712 0.5250217 ]\n",
            " [0.76078254 0.05993333]\n",
            " [0.6861324  0.28224078]\n",
            " [0.9052305  0.02803036]\n",
            " [0.46711734 0.4897527 ]\n",
            " [0.78683215 0.08673904]\n",
            " [0.11378855 0.9016696 ]\n",
            " [0.9265222  0.06506632]\n",
            " [0.95680434 0.01487358]\n",
            " [0.81773466 0.07269871]\n",
            " [0.6998242  0.18301804]\n",
            " [0.8517652  0.03796851]\n",
            " [0.26007953 0.67608297]\n",
            " [0.46711734 0.4897527 ]\n",
            " [0.08782984 0.9390131 ]\n",
            " [0.36141557 0.65586203]\n",
            " [0.69982415 0.18301804]]\n"
          ]
        }
      ],
      "source": [
        "print(B_pred)"
      ]
    },
    {
      "attachments": {},
      "cell_type": "markdown",
      "metadata": {
        "id": "CNNph8v5StX-"
      },
      "source": [
        "COVERTING THE PREDICTION PROBABILITY OF EACH CLASS"
      ]
    },
    {
      "cell_type": "code",
      "execution_count": 33,
      "metadata": {
        "id": "l1INjiedPmyJ"
      },
      "outputs": [],
      "source": [
        "B_pred_labels=[np.argmax(i) for i in B_pred]  # -> argmax fuction gives the index of maximum value in a list"
      ]
    },
    {
      "cell_type": "code",
      "execution_count": 34,
      "metadata": {
        "colab": {
          "base_uri": "https://localhost:8080/"
        },
        "id": "FN3sMkaWTNeE",
        "outputId": "84fbfc76-5b74-4ac4-8e22-09f09ceb5cf5"
      },
      "outputs": [
        {
          "name": "stdout",
          "output_type": "stream",
          "text": [
            "[0, 1, 0, 0, 1, 1, 0, 0, 0, 1, 0, 0, 0, 1, 1, 1, 1, 0, 1, 1, 1, 1, 1, 0, 0, 0, 0, 1, 0, 0, 0, 0, 1, 0, 0, 1, 1, 1, 1, 1, 1, 0, 1, 1, 0, 1, 1, 1, 1, 0, 1, 0, 0, 0, 0, 1, 1, 1, 0, 1, 1, 0, 1, 1, 1, 0, 1, 1, 0, 1, 1, 0, 0, 1, 1, 1, 0, 0, 0, 0, 0, 0, 1, 0, 0, 1, 0, 0, 1, 1, 1, 0, 1, 0, 1, 1, 1, 0, 1, 0, 1, 0, 1, 1, 0, 1, 1, 1, 1, 1, 0, 0, 0, 0, 0, 0, 0, 0, 0, 0, 1, 0, 1, 0, 1, 0, 0, 1, 0, 0, 1, 0, 1, 0, 1, 1, 1, 0, 1, 0, 0, 0, 0, 1, 1, 0, 1, 0, 0, 0, 0, 1, 0, 1, 1, 1, 0, 1, 0, 0, 0, 1, 1, 1, 0, 0, 1, 0, 1, 0, 1, 0, 1, 0, 0, 0, 1, 0, 0, 1, 1, 1, 1, 1, 0, 0, 0, 1, 1, 0, 0, 0, 1, 0, 1, 0, 0, 0, 0, 0, 1, 1, 1, 1, 0]\n"
          ]
        }
      ],
      "source": [
        "print(B_pred_labels)"
      ]
    },
    {
      "attachments": {},
      "cell_type": "markdown",
      "metadata": {
        "id": "rTUIQIFYTUCl"
      },
      "source": [
        "Predictive System"
      ]
    },
    {
      "cell_type": "code",
      "execution_count": 35,
      "metadata": {
        "colab": {
          "base_uri": "https://localhost:8080/"
        },
        "id": "kwStfA4sTP-m",
        "outputId": "0b68af1d-44ac-40d0-8b94-33398d4c238f"
      },
      "outputs": [
        {
          "name": "stdout",
          "output_type": "stream",
          "text": [
            "1/1 [==============================] - 0s 70ms/step\n",
            "[[0.26671913 0.70929253]]\n",
            "[1]\n",
            "Person has heart disease\n"
          ]
        },
        {
          "name": "stderr",
          "output_type": "stream",
          "text": [
            "C:\\Users\\Akshat\\AppData\\Roaming\\Python\\Python311\\site-packages\\sklearn\\base.py:464: UserWarning: X does not have valid feature names, but StandardScaler was fitted with feature names\n",
            "  warnings.warn(\n"
          ]
        }
      ],
      "source": [
        "input=(65,0,2,140,417,1,0,157,0,0.8,2,1,2)\n",
        "\n",
        "#change the input tuple to numpy array\n",
        "\n",
        "input_numpy=np.asarray(input)\n",
        "\n",
        "#reshaping the array so as to predict for one data point\n",
        "\n",
        "input_reshaped=input_numpy.reshape(1,-1)\n",
        "\n",
        "#standardizing the input data\n",
        "\n",
        "input_std=scaler.transform(input_reshaped)\n",
        "\n",
        "\n",
        "prediction = model.predict(input_std)\n",
        "\n",
        "print(prediction)\n",
        "\n",
        "prediction_label=[np.argmax(prediction)]\n",
        "print(prediction_label)\n",
        "\n",
        "\n",
        "if(prediction_label[0]==0):\n",
        "  print(\"Person does not have heart disease\")\n",
        "else:\n",
        "  print(\"Person has heart disease\")\n",
        "\n"
      ]
    }
  ],
  "metadata": {
    "colab": {
      "provenance": []
    },
    "kernelspec": {
      "display_name": "Python 3",
      "name": "python3"
    },
    "language_info": {
      "codemirror_mode": {
        "name": "ipython",
        "version": 3
      },
      "file_extension": ".py",
      "mimetype": "text/x-python",
      "name": "python",
      "nbconvert_exporter": "python",
      "pygments_lexer": "ipython3",
      "version": "3.11.4"
    }
  },
  "nbformat": 4,
  "nbformat_minor": 0
}
